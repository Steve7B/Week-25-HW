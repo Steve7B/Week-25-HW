{
 "cells": [
  {
   "cell_type": "code",
   "execution_count": 2,
   "metadata": {},
   "outputs": [],
   "source": [
    "Cheese=[3,2,5,6,7,3,2] \n",
    "Crackers = [4,5,6,7,3,5,7]\n",
    "Chips = [6,7,2,4,2,5,6]\n",
    "Cakes = [1,3,5,2,4,2,4]\n",
    "Clams = [1,1,2,4,3,5,6]\n",
    "Crabs = [5,1,5,3,5,1,2]\n",
    "Name=['Max','Felix','Alex','Vivan','Ethan','Justine','Troy'] "
   ]
  },
  {
   "cell_type": "code",
   "execution_count": 3,
   "metadata": {},
   "outputs": [
    {
     "name": "stdout",
     "output_type": "stream",
     "text": [
      "{'Max': 3, 'Felix': 2, 'Alex': 5, 'Vivan': 6, 'Ethan': 7, 'Justine': 3, 'Troy': 2}\n"
     ]
    }
   ],
   "source": [
    "cheese_dict = {}\n",
    "\n",
    "n=len(Name)\n",
    "for i in range(n):\n",
    "    cheese_dict[Name[i]] = Cheese[i]\n",
    "print(cheese_dict)"
   ]
  },
  {
   "cell_type": "code",
   "execution_count": 4,
   "metadata": {},
   "outputs": [
    {
     "name": "stdout",
     "output_type": "stream",
     "text": [
      "{'Max': 4, 'Felix': 5, 'Alex': 6, 'Vivan': 7, 'Ethan': 3, 'Justine': 5, 'Troy': 7}\n"
     ]
    }
   ],
   "source": [
    "cracker_dict = {}\n",
    "\n",
    "n = len(Crackers)\n",
    "for i in range(n):\n",
    "    cracker_dict[Name[i]] = Crackers[i]\n",
    "print(cracker_dict)"
   ]
  },
  {
   "cell_type": "code",
   "execution_count": 5,
   "metadata": {},
   "outputs": [
    {
     "name": "stdout",
     "output_type": "stream",
     "text": [
      "{'Max': 6, 'Felix': 7, 'Alex': 2, 'Vivan': 4, 'Ethan': 2, 'Justine': 5, 'Troy': 6}\n"
     ]
    }
   ],
   "source": [
    "chips_dict = {}\n",
    "\n",
    "n=len(Name)\n",
    "for i in range(n):\n",
    "    chips_dict[Name[i]] = Chips[i]\n",
    "print(chips_dict)"
   ]
  },
  {
   "cell_type": "code",
   "execution_count": 6,
   "metadata": {},
   "outputs": [
    {
     "name": "stdout",
     "output_type": "stream",
     "text": [
      "{'Max': 1, 'Felix': 3, 'Alex': 5, 'Vivan': 2, 'Ethan': 4, 'Justine': 2, 'Troy': 4}\n"
     ]
    }
   ],
   "source": [
    "cakes_dict = {}\n",
    "\n",
    "n=len(Name)\n",
    "for i in range(n):\n",
    "    cakes_dict[Name[i]] = Cakes[i]\n",
    "print(cakes_dict)"
   ]
  },
  {
   "cell_type": "code",
   "execution_count": 7,
   "metadata": {},
   "outputs": [
    {
     "name": "stdout",
     "output_type": "stream",
     "text": [
      "{'Max': 1, 'Felix': 1, 'Alex': 2, 'Vivan': 4, 'Ethan': 3, 'Justine': 5, 'Troy': 6}\n"
     ]
    }
   ],
   "source": [
    "clams_dict = {}\n",
    "\n",
    "n=len(Name)\n",
    "for i in range(n):\n",
    "    clams_dict[Name[i]] = Clams[i]\n",
    "print(clams_dict)"
   ]
  },
  {
   "cell_type": "code",
   "execution_count": 8,
   "metadata": {},
   "outputs": [
    {
     "name": "stdout",
     "output_type": "stream",
     "text": [
      "{'Max': 5, 'Felix': 1, 'Alex': 5, 'Vivan': 3, 'Ethan': 5, 'Justine': 1, 'Troy': 2}\n"
     ]
    }
   ],
   "source": [
    "crabs_dict = {}\n",
    "\n",
    "n=len(Name)\n",
    "for i in range(n):\n",
    "    crabs_dict[Name[i]] = Crabs[i]\n",
    "print(crabs_dict)"
   ]
  },
  {
   "cell_type": "code",
   "execution_count": 11,
   "metadata": {},
   "outputs": [
    {
     "name": "stdout",
     "output_type": "stream",
     "text": [
      "{3: 2, 2: 2, 5: 1, 6: 1, 7: 1}\n"
     ]
    }
   ],
   "source": [
    "cheese_hist = {}\n",
    "\n",
    "for key in Cheese:\n",
    "    if key not in cheese_hist.keys():\n",
    "        cheese_hist[key] = 1\n",
    "    else:\n",
    "        cheese_hist[key] += 1\n",
    "print(cheese_hist)"
   ]
  },
  {
   "cell_type": "code",
   "execution_count": 11,
   "metadata": {},
   "outputs": [
    {
     "name": "stdout",
     "output_type": "stream",
     "text": [
      "{4: 1, 5: 2, 6: 1, 7: 2, 3: 1}\n"
     ]
    }
   ],
   "source": [
    "cracker_hist = {}\n",
    "\n",
    "for key in Crackers:\n",
    "    if key not in cracker_hist.keys():\n",
    "        cracker_hist[key] = 1\n",
    "    else:\n",
    "        cracker_hist[key] += 1\n",
    "print(cracker_hist)"
   ]
  },
  {
   "cell_type": "code",
   "execution_count": 14,
   "metadata": {},
   "outputs": [
    {
     "name": "stdout",
     "output_type": "stream",
     "text": [
      "{6: 2, 7: 1, 2: 2, 4: 1, 5: 1}\n"
     ]
    }
   ],
   "source": [
    "chips_hist = {}\n",
    "\n",
    "for key in Chips:\n",
    "    if key not in chips_hist.keys():\n",
    "        chips_hist[key] = 1\n",
    "    else:\n",
    "        chips_hist[key] += 1\n",
    "print(chips_hist)"
   ]
  },
  {
   "cell_type": "code",
   "execution_count": 12,
   "metadata": {},
   "outputs": [
    {
     "name": "stdout",
     "output_type": "stream",
     "text": [
      "{1: 1, 3: 1, 5: 1, 2: 2, 4: 2}\n"
     ]
    }
   ],
   "source": [
    "cakes_hist = {}\n",
    "\n",
    "for key in Cakes:\n",
    "    if key not in cakes_hist.keys():\n",
    "        cakes_hist[key] = 1\n",
    "    else:\n",
    "        cakes_hist[key] += 1\n",
    "print(cakes_hist)"
   ]
  },
  {
   "cell_type": "code",
   "execution_count": 13,
   "metadata": {},
   "outputs": [
    {
     "name": "stdout",
     "output_type": "stream",
     "text": [
      "{1: 2, 2: 1, 4: 1, 3: 1, 5: 1, 6: 1}\n"
     ]
    }
   ],
   "source": [
    "clams_hist = {}\n",
    "\n",
    "for key in Clams:\n",
    "    if key not in clams_hist.keys():\n",
    "        clams_hist[key] = 1\n",
    "    else:\n",
    "        clams_hist[key] += 1\n",
    "print(clams_hist)"
   ]
  },
  {
   "cell_type": "code",
   "execution_count": 15,
   "metadata": {},
   "outputs": [
    {
     "name": "stdout",
     "output_type": "stream",
     "text": [
      "{5: 3, 1: 2, 3: 1, 2: 1}\n"
     ]
    }
   ],
   "source": [
    "crabs_hist = {}\n",
    "\n",
    "for key in Crabs:\n",
    "    if key not in crabs_hist.keys():\n",
    "        crabs_hist[key] = 1\n",
    "    else:\n",
    "        crabs_hist[key] += 1\n",
    "print(crabs_hist)"
   ]
  }
 ],
 "metadata": {
  "kernelspec": {
   "display_name": "Python 3",
   "language": "python",
   "name": "python3"
  },
  "language_info": {
   "codemirror_mode": {
    "name": "ipython",
    "version": 3
   },
   "file_extension": ".py",
   "mimetype": "text/x-python",
   "name": "python",
   "nbconvert_exporter": "python",
   "pygments_lexer": "ipython3",
   "version": "3.8.5"
  }
 },
 "nbformat": 4,
 "nbformat_minor": 4
}
